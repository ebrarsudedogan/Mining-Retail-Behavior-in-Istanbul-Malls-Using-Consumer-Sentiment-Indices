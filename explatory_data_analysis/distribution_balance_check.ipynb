{
 "cells": [
  {
   "metadata": {},
   "cell_type": "markdown",
   "source": "# Distribution and Balance Check",
   "id": "76eb629733a16220"
  },
  {
   "cell_type": "code",
   "id": "initial_id",
   "metadata": {
    "collapsed": true,
    "ExecuteTime": {
     "end_time": "2025-06-30T10:38:09.840665Z",
     "start_time": "2025-06-30T10:38:09.682717Z"
    }
   },
   "source": [
    "import pandas as pd\n",
    "\n",
    "df = pd.read_csv('../datasets/customer_shopping_data_v14.csv')"
   ],
   "outputs": [],
   "execution_count": 32
  },
  {
   "metadata": {},
   "cell_type": "markdown",
   "source": "gender",
   "id": "6594b9623a973f8e"
  },
  {
   "metadata": {
    "ExecuteTime": {
     "end_time": "2025-06-30T10:38:09.848830Z",
     "start_time": "2025-06-30T10:38:09.841606Z"
    }
   },
   "cell_type": "code",
   "source": [
    "col = \"gender\"\n",
    "\n",
    "# Calculate proportions\n",
    "counts = df[col].value_counts(normalize=True)\n",
    "counts_percent = counts * 100\n",
    "\n",
    "# Determine balanced/imbalanced\n",
    "threshold = 80  # Percent\n",
    "max_ratio = counts_percent.max()\n",
    "if max_ratio > threshold:\n",
    "    balance_label = \"Imbalanced distribution\"\n",
    "else:\n",
    "    balance_label = \"Balanced distribution\"\n",
    "\n",
    "# Print results\n",
    "print(f\"===== {col.upper()} =====\")\n",
    "for category, pct in counts_percent.items():\n",
    "    print(f\"{category}: {pct:.2f}%\")\n",
    "print(f\"Max class ratio: {max_ratio:.2f}% (Threshold: {threshold}%)\")\n",
    "print(f\"Result: {balance_label}\")\n"
   ],
   "id": "7e5a5a9b61dbe1b9",
   "outputs": [
    {
     "name": "stdout",
     "output_type": "stream",
     "text": [
      "===== GENDER =====\n",
      "Female: 59.81%\n",
      "Male: 40.19%\n",
      "Max class ratio: 59.81% (Threshold: 80%)\n",
      "Result: Balanced distribution\n"
     ]
    }
   ],
   "execution_count": 33
  },
  {
   "metadata": {},
   "cell_type": "markdown",
   "source": "age",
   "id": "7e73015a57fb720f"
  },
  {
   "metadata": {
    "ExecuteTime": {
     "end_time": "2025-06-30T10:38:09.857794Z",
     "start_time": "2025-06-30T10:38:09.849496Z"
    }
   },
   "cell_type": "code",
   "source": [
    "import pandas as pd\n",
    "from scipy.stats import skew\n",
    "\n",
    "col = \"age\"\n",
    "\n",
    "# Descriptive stats\n",
    "desc = df[col].describe()\n",
    "skewness_value = skew(df[col])\n",
    "\n",
    "# Skewness interpretation\n",
    "if abs(skewness_value) < 0.5:\n",
    "    skew_label = \"Approximately symmetric distribution\"\n",
    "elif abs(skewness_value) < 1:\n",
    "    skew_label = \"Moderate skewness\"\n",
    "else:\n",
    "    skew_label = \"High skewness\"\n",
    "\n",
    "# Print results\n",
    "print(f\"===== {col.upper()} =====\")\n",
    "print(f\"Count: {desc['count']}\")\n",
    "print(f\"Min: {desc['min']:.2f}\")\n",
    "print(f\"Max: {desc['max']:.2f}\")\n",
    "print(f\"Mean: {desc['mean']:.2f}\")\n",
    "print(f\"Std: {desc['std']:.2f}\")\n",
    "print(f\"Skewness: {skewness_value:.2f}\")\n",
    "print(f\"Interpretation: {skew_label}\")\n"
   ],
   "id": "752da5dcee359be3",
   "outputs": [
    {
     "name": "stdout",
     "output_type": "stream",
     "text": [
      "===== AGE =====\n",
      "Count: 99457.0\n",
      "Min: 18.00\n",
      "Max: 69.00\n",
      "Mean: 43.43\n",
      "Std: 14.99\n",
      "Skewness: 0.01\n",
      "Interpretation: Approximately symmetric distribution\n"
     ]
    }
   ],
   "execution_count": 34
  },
  {
   "metadata": {},
   "cell_type": "markdown",
   "source": "category",
   "id": "a65c9abce9fe9e16"
  },
  {
   "metadata": {
    "ExecuteTime": {
     "end_time": "2025-06-30T10:38:09.866481Z",
     "start_time": "2025-06-30T10:38:09.859171Z"
    }
   },
   "cell_type": "code",
   "source": [
    "col = \"category\"\n",
    "\n",
    "# Calculate proportions\n",
    "counts = df[col].value_counts(normalize=True)\n",
    "counts_percent = counts * 100\n",
    "\n",
    "# Determine balanced/imbalanced\n",
    "threshold = 80\n",
    "max_ratio = counts_percent.max()\n",
    "if max_ratio > threshold:\n",
    "    balance_label = \"Imbalanced distribution\"\n",
    "else:\n",
    "    balance_label = \"Balanced distribution\"\n",
    "\n",
    "# Print results\n",
    "print(f\"===== {col.upper()} =====\")\n",
    "for category, pct in counts_percent.items():\n",
    "    print(f\"{category}: {pct:.2f}%\")\n",
    "print(f\"Max class ratio: {max_ratio:.2f}% (Threshold: {threshold}%)\")\n",
    "print(f\"Result: {balance_label}\")\n"
   ],
   "id": "e5d4f8ff6d4e6b5e",
   "outputs": [
    {
     "name": "stdout",
     "output_type": "stream",
     "text": [
      "===== CATEGORY =====\n",
      "Clothing: 34.68%\n",
      "Cosmetics: 15.18%\n",
      "Food & Beverage: 14.86%\n",
      "Toys: 10.14%\n",
      "Shoes: 10.09%\n",
      "Souvenir: 5.03%\n",
      "Technology: 5.02%\n",
      "Books: 5.01%\n",
      "Max class ratio: 34.68% (Threshold: 80%)\n",
      "Result: Balanced distribution\n"
     ]
    }
   ],
   "execution_count": 35
  },
  {
   "metadata": {},
   "cell_type": "markdown",
   "source": "quantity",
   "id": "6ea332a7632cc4c7"
  },
  {
   "metadata": {
    "ExecuteTime": {
     "end_time": "2025-06-30T10:38:09.873142Z",
     "start_time": "2025-06-30T10:38:09.867090Z"
    }
   },
   "cell_type": "code",
   "source": [
    "col = \"quantity\"\n",
    "\n",
    "# Descriptive stats\n",
    "desc = df[col].describe()\n",
    "skewness_value = skew(df[col])\n",
    "\n",
    "# Skewness interpretation\n",
    "if abs(skewness_value) < 0.5:\n",
    "    skew_label = \"Approximately symmetric distribution\"\n",
    "elif abs(skewness_value) < 1:\n",
    "    skew_label = \"Moderate skewness\"\n",
    "else:\n",
    "    skew_label = \"High skewness\"\n",
    "\n",
    "# Print results\n",
    "print(f\"===== {col.upper()} =====\")\n",
    "print(f\"Count: {desc['count']}\")\n",
    "print(f\"Min: {desc['min']:.2f}\")\n",
    "print(f\"Max: {desc['max']:.2f}\")\n",
    "print(f\"Mean: {desc['mean']:.2f}\")\n",
    "print(f\"Std: {desc['std']:.2f}\")\n",
    "print(f\"Skewness: {skewness_value:.2f}\")\n",
    "print(f\"Interpretation: {skew_label}\")\n"
   ],
   "id": "63e92b63662c76b1",
   "outputs": [
    {
     "name": "stdout",
     "output_type": "stream",
     "text": [
      "===== QUANTITY =====\n",
      "Count: 99457.0\n",
      "Min: 1.00\n",
      "Max: 5.00\n",
      "Mean: 3.00\n",
      "Std: 1.41\n",
      "Skewness: -0.00\n",
      "Interpretation: Approximately symmetric distribution\n"
     ]
    }
   ],
   "execution_count": 36
  },
  {
   "metadata": {},
   "cell_type": "markdown",
   "source": "price",
   "id": "b8e85fc68bccc1f8"
  },
  {
   "metadata": {
    "ExecuteTime": {
     "end_time": "2025-06-30T10:38:09.881098Z",
     "start_time": "2025-06-30T10:38:09.873909Z"
    }
   },
   "cell_type": "code",
   "source": [
    "col = \"price\"\n",
    "\n",
    "desc = df[col].describe()\n",
    "skewness_value = skew(df[col])\n",
    "\n",
    "if abs(skewness_value) < 0.5:\n",
    "    skew_label = \"Approximately symmetric distribution\"\n",
    "elif abs(skewness_value) < 1:\n",
    "    skew_label = \"Moderate skewness\"\n",
    "else:\n",
    "    skew_label = \"High skewness\"\n",
    "\n",
    "print(f\"===== {col.upper()} =====\")\n",
    "print(f\"Count: {desc['count']}\")\n",
    "print(f\"Min: {desc['min']:.2f}\")\n",
    "print(f\"Max: {desc['max']:.2f}\")\n",
    "print(f\"Mean: {desc['mean']:.2f}\")\n",
    "print(f\"Std: {desc['std']:.2f}\")\n",
    "print(f\"Skewness: {skewness_value:.2f}\")\n",
    "print(f\"Interpretation: {skew_label}\")\n"
   ],
   "id": "b97813fc6a993440",
   "outputs": [
    {
     "name": "stdout",
     "output_type": "stream",
     "text": [
      "===== PRICE =====\n",
      "Count: 99457.0\n",
      "Min: 5.23\n",
      "Max: 5250.00\n",
      "Mean: 689.26\n",
      "Std: 941.18\n",
      "Skewness: 2.25\n",
      "Interpretation: High skewness\n"
     ]
    }
   ],
   "execution_count": 37
  },
  {
   "metadata": {},
   "cell_type": "markdown",
   "source": "payment_method",
   "id": "953db78db637498a"
  },
  {
   "metadata": {
    "ExecuteTime": {
     "end_time": "2025-06-30T10:38:09.888652Z",
     "start_time": "2025-06-30T10:38:09.881853Z"
    }
   },
   "cell_type": "code",
   "source": [
    "col = \"payment_method\"\n",
    "\n",
    "counts = df[col].value_counts(normalize=True)\n",
    "counts_percent = counts * 100\n",
    "\n",
    "threshold = 80\n",
    "max_ratio = counts_percent.max()\n",
    "if max_ratio > threshold:\n",
    "    balance_label = \"Imbalanced distribution\"\n",
    "else:\n",
    "    balance_label = \"Balanced distribution\"\n",
    "\n",
    "print(f\"===== {col.upper()} =====\")\n",
    "for cat, pct in counts_percent.items():\n",
    "    print(f\"{cat}: {pct:.2f}%\")\n",
    "print(f\"Max class ratio: {max_ratio:.2f}% (Threshold: {threshold}%)\")\n",
    "print(f\"Result: {balance_label}\")\n"
   ],
   "id": "d89380aef78ba323",
   "outputs": [
    {
     "name": "stdout",
     "output_type": "stream",
     "text": [
      "===== PAYMENT_METHOD =====\n",
      "Cash: 44.69%\n",
      "Credit Card: 35.12%\n",
      "Debit Card: 20.19%\n",
      "Max class ratio: 44.69% (Threshold: 80%)\n",
      "Result: Balanced distribution\n"
     ]
    }
   ],
   "execution_count": 38
  },
  {
   "metadata": {},
   "cell_type": "markdown",
   "source": "shopping_mall",
   "id": "ffd00d0bd5d0bd7e"
  },
  {
   "metadata": {
    "ExecuteTime": {
     "end_time": "2025-06-30T10:38:09.896443Z",
     "start_time": "2025-06-30T10:38:09.889682Z"
    }
   },
   "cell_type": "code",
   "source": [
    "col = \"shopping_mall\"\n",
    "\n",
    "counts = df[col].value_counts(normalize=True)\n",
    "counts_percent = counts * 100\n",
    "\n",
    "max_ratio = counts_percent.max()\n",
    "if max_ratio > threshold:\n",
    "    balance_label = \"Imbalanced distribution\"\n",
    "else:\n",
    "    balance_label = \"Balanced distribution\"\n",
    "\n",
    "print(f\"===== {col.upper()} =====\")\n",
    "for cat, pct in counts_percent.items():\n",
    "    print(f\"{cat}: {pct:.2f}%\")\n",
    "print(f\"Max class ratio: {max_ratio:.2f}%\")\n",
    "print(f\"Result: {balance_label}\")\n"
   ],
   "id": "1f175a37219b585d",
   "outputs": [
    {
     "name": "stdout",
     "output_type": "stream",
     "text": [
      "===== SHOPPING_MALL =====\n",
      "Mall of Istanbul: 20.05%\n",
      "Kanyon: 19.93%\n",
      "Metrocity: 15.09%\n",
      "Metropol AVM: 10.22%\n",
      "Istinye Park: 9.83%\n",
      "Zorlu Center: 5.10%\n",
      "Cevahir AVM: 5.02%\n",
      "Forum Istanbul: 4.97%\n",
      "Viaport Outlet: 4.94%\n",
      "Emaar Square Mall: 4.84%\n",
      "Max class ratio: 20.05%\n",
      "Result: Balanced distribution\n"
     ]
    }
   ],
   "execution_count": 39
  },
  {
   "metadata": {},
   "cell_type": "markdown",
   "source": "season",
   "id": "cf646a5150ba7ca4"
  },
  {
   "metadata": {
    "ExecuteTime": {
     "end_time": "2025-06-30T10:38:09.903693Z",
     "start_time": "2025-06-30T10:38:09.897277Z"
    }
   },
   "cell_type": "code",
   "source": [
    "col = \"season\"\n",
    "\n",
    "counts = df[col].value_counts(normalize=True)\n",
    "counts_percent = counts * 100\n",
    "\n",
    "max_ratio = counts_percent.max()\n",
    "if max_ratio > threshold:\n",
    "    balance_label = \"Imbalanced distribution\"\n",
    "else:\n",
    "    balance_label = \"Balanced distribution\"\n",
    "\n",
    "print(f\"===== {col.upper()} =====\")\n",
    "for cat, pct in counts_percent.items():\n",
    "    print(f\"{cat}: {pct:.2f}%\")\n",
    "print(f\"Max class ratio: {max_ratio:.2f}%\")\n",
    "print(f\"Result: {balance_label}\")\n"
   ],
   "id": "7a8bd62f57ca0e88",
   "outputs": [
    {
     "name": "stdout",
     "output_type": "stream",
     "text": [
      "===== SEASON =====\n",
      "Winter: 29.93%\n",
      "Spring: 24.04%\n",
      "Summer: 23.22%\n",
      "Fall: 22.80%\n",
      "Max class ratio: 29.93%\n",
      "Result: Balanced distribution\n"
     ]
    }
   ],
   "execution_count": 40
  },
  {
   "metadata": {},
   "cell_type": "markdown",
   "source": "is_weekday",
   "id": "b414ed4249ee09ea"
  },
  {
   "metadata": {
    "ExecuteTime": {
     "end_time": "2025-06-30T10:38:09.909509Z",
     "start_time": "2025-06-30T10:38:09.905516Z"
    }
   },
   "cell_type": "code",
   "source": [
    "col = \"is_weekday\"\n",
    "\n",
    "counts = df[col].value_counts(normalize=True)\n",
    "counts_percent = counts * 100\n",
    "\n",
    "max_ratio = counts_percent.max()\n",
    "if max_ratio > threshold:\n",
    "    balance_label = \"Imbalanced distribution\"\n",
    "else:\n",
    "    balance_label = \"Balanced distribution\"\n",
    "\n",
    "print(f\"===== {col.upper()} =====\")\n",
    "for cat, pct in counts_percent.items():\n",
    "    print(f\"{cat}: {pct:.2f}%\")\n",
    "print(f\"Max class ratio: {max_ratio:.2f}%\")\n",
    "print(f\"Result: {balance_label}\")\n"
   ],
   "id": "a071027d49bedff9",
   "outputs": [
    {
     "name": "stdout",
     "output_type": "stream",
     "text": [
      "===== IS_WEEKDAY =====\n",
      "1: 71.58%\n",
      "0: 28.42%\n",
      "Max class ratio: 71.58%\n",
      "Result: Balanced distribution\n"
     ]
    }
   ],
   "execution_count": 41
  },
  {
   "metadata": {},
   "cell_type": "markdown",
   "source": "is_holiday",
   "id": "21508ac7741e0b27"
  },
  {
   "metadata": {
    "ExecuteTime": {
     "end_time": "2025-06-30T10:38:09.913253Z",
     "start_time": "2025-06-30T10:38:09.910035Z"
    }
   },
   "cell_type": "code",
   "source": [
    "col = \"is_holiday\"\n",
    "\n",
    "counts = df[col].value_counts(normalize=True)\n",
    "counts_percent = counts * 100\n",
    "\n",
    "max_ratio = counts_percent.max()\n",
    "if max_ratio > threshold:\n",
    "    balance_label = \"Imbalanced distribution\"\n",
    "else:\n",
    "    balance_label = \"Balanced distribution\"\n",
    "\n",
    "print(f\"===== {col.upper()} =====\")\n",
    "for cat, pct in counts_percent.items():\n",
    "    print(f\"{cat}: {pct:.2f}%\")\n",
    "print(f\"Max class ratio: {max_ratio:.2f}%\")\n",
    "print(f\"Result: {balance_label}\")\n"
   ],
   "id": "dfd27da0ba7ee6b9",
   "outputs": [
    {
     "name": "stdout",
     "output_type": "stream",
     "text": [
      "===== IS_HOLIDAY =====\n",
      "0: 69.04%\n",
      "1: 30.96%\n",
      "Max class ratio: 69.04%\n",
      "Result: Balanced distribution\n"
     ]
    }
   ],
   "execution_count": 42
  },
  {
   "metadata": {},
   "cell_type": "markdown",
   "source": "indexes",
   "id": "e382a2256a21083f"
  },
  {
   "metadata": {
    "ExecuteTime": {
     "end_time": "2025-06-30T10:38:56.598325Z",
     "start_time": "2025-06-30T10:38:56.383078Z"
    }
   },
   "cell_type": "code",
   "source": [
    "numeric_cols_df = [\n",
    "    \"Econ_Conf\",\n",
    "    \"Cons_Conf\",\n",
    "    \"RealSec_Conf\",\n",
    "    \"total_price\",\n",
    "    \"bloomberg_confidence\",\n",
    "    \"oecd_confidence\",\n",
    "    \"ipsos_confidence\"\n",
    "]\n",
    "\n",
    "for col in numeric_cols_df:\n",
    "    desc = df[col].describe()\n",
    "    skewness_value = skew(df[col])\n",
    "\n",
    "    if abs(skewness_value) < 0.5:\n",
    "        skew_label = \"Approximately symmetric distribution\"\n",
    "    elif abs(skewness_value) < 1:\n",
    "        skew_label = \"Moderate skewness\"\n",
    "    else:\n",
    "        skew_label = \"High skewness\"\n",
    "\n",
    "    print(f\"===== {col.upper()} =====\")\n",
    "    print(f\"Count: {desc['count']}\")\n",
    "    print(f\"Min: {desc['min']:.2f}\")\n",
    "    print(f\"Max: {desc['max']:.2f}\")\n",
    "    print(f\"Mean: {desc['mean']:.2f}\")\n",
    "    print(f\"Std: {desc['std']:.2f}\")\n",
    "    print(f\"Skewness: {skewness_value:.2f}\")\n",
    "    print(f\"Interpretation: {skew_label}\\n\")\n",
    "\n",
    "numeric_cols_extra = [\n",
    "    \"Serv_Conf\",\n",
    "    \"Retail_Conf\",\n",
    "    \"Constr_Conf\"\n",
    "]\n",
    "\n",
    "df_extra = pd.read_csv(\"../datasets/customer_shopping_data_v6.csv\")\n",
    "for col in numeric_cols_extra:\n",
    "    desc = df_extra[col].describe()\n",
    "    skewness_value = skew(df_extra[col])\n",
    "\n",
    "    if abs(skewness_value) < 0.5:\n",
    "        skew_label = \"Approximately symmetric distribution\"\n",
    "    elif abs(skewness_value) < 1:\n",
    "        skew_label = \"Moderate skewness\"\n",
    "    else:\n",
    "        skew_label = \"High skewness\"\n",
    "\n",
    "    print(f\"===== {col.upper()} =====\")\n",
    "    print(f\"Count: {desc['count']}\")\n",
    "    print(f\"Min: {desc['min']:.2f}\")\n",
    "    print(f\"Max: {desc['max']:.2f}\")\n",
    "    print(f\"Mean: {desc['mean']:.2f}\")\n",
    "    print(f\"Std: {desc['std']:.2f}\")\n",
    "    print(f\"Skewness: {skewness_value:.2f}\")\n",
    "    print(f\"Interpretation: {skew_label}\\n\")\n"
   ],
   "id": "47ce9b3b6bada759",
   "outputs": [
    {
     "name": "stdout",
     "output_type": "stream",
     "text": [
      "===== ECON_CONF =====\n",
      "Count: 99457.0\n",
      "Min: 92.97\n",
      "Max: 104.35\n",
      "Mean: 98.29\n",
      "Std: 3.02\n",
      "Skewness: 0.19\n",
      "Interpretation: Approximately symmetric distribution\n",
      "\n",
      "===== CONS_CONF =====\n",
      "Count: 99457.0\n",
      "Min: 63.36\n",
      "Max: 86.65\n",
      "Mean: 75.59\n",
      "Std: 5.81\n",
      "Skewness: -0.13\n",
      "Interpretation: Approximately symmetric distribution\n",
      "\n",
      "===== REALSEC_CONF =====\n",
      "Count: 99457.0\n",
      "Min: 100.20\n",
      "Max: 113.30\n",
      "Mean: 107.17\n",
      "Std: 4.05\n",
      "Skewness: -0.26\n",
      "Interpretation: Approximately symmetric distribution\n",
      "\n",
      "===== TOTAL_PRICE =====\n",
      "Count: 99457.0\n",
      "Min: 5.23\n",
      "Max: 26250.00\n",
      "Mean: 2528.79\n",
      "Std: 4222.48\n",
      "Skewness: 2.87\n",
      "Interpretation: High skewness\n",
      "\n",
      "===== BLOOMBERG_CONFIDENCE =====\n",
      "Count: 99457.0\n",
      "Min: 45.32\n",
      "Max: 77.81\n",
      "Mean: 59.41\n",
      "Std: 9.05\n",
      "Skewness: 0.09\n",
      "Interpretation: Approximately symmetric distribution\n",
      "\n",
      "===== OECD_CONFIDENCE =====\n",
      "Count: 99457.0\n",
      "Min: 93.29\n",
      "Max: 98.87\n",
      "Mean: 96.22\n",
      "Std: 1.68\n",
      "Skewness: -0.11\n",
      "Interpretation: Approximately symmetric distribution\n",
      "\n",
      "===== IPSOS_CONFIDENCE =====\n",
      "Count: 99457.0\n",
      "Min: 27.00\n",
      "Max: 34.40\n",
      "Mean: 30.52\n",
      "Std: 2.29\n",
      "Skewness: 0.42\n",
      "Interpretation: Approximately symmetric distribution\n",
      "\n",
      "===== SERV_CONF =====\n",
      "Count: 99457.0\n",
      "Min: 100.40\n",
      "Max: 121.66\n",
      "Mean: 114.63\n",
      "Std: 6.39\n",
      "Skewness: -1.10\n",
      "Interpretation: High skewness\n",
      "\n",
      "===== RETAIL_CONF =====\n",
      "Count: 99457.0\n",
      "Min: 100.88\n",
      "Max: 127.47\n",
      "Mean: 116.04\n",
      "Std: 7.05\n",
      "Skewness: -0.42\n",
      "Interpretation: Approximately symmetric distribution\n",
      "\n",
      "===== CONSTR_CONF =====\n",
      "Count: 99457.0\n",
      "Min: 77.30\n",
      "Max: 93.63\n",
      "Mean: 86.48\n",
      "Std: 4.81\n",
      "Skewness: -0.04\n",
      "Interpretation: Approximately symmetric distribution\n",
      "\n"
     ]
    }
   ],
   "execution_count": 44
  }
 ],
 "metadata": {
  "kernelspec": {
   "display_name": "Python 3",
   "language": "python",
   "name": "python3"
  },
  "language_info": {
   "codemirror_mode": {
    "name": "ipython",
    "version": 2
   },
   "file_extension": ".py",
   "mimetype": "text/x-python",
   "name": "python",
   "nbconvert_exporter": "python",
   "pygments_lexer": "ipython2",
   "version": "2.7.6"
  }
 },
 "nbformat": 4,
 "nbformat_minor": 5
}
