{
 "cells": [
  {
   "cell_type": "markdown",
   "id": "30f6606c",
   "metadata": {},
   "source": "# Customer Analysis"
  },
  {
   "metadata": {},
   "cell_type": "markdown",
   "source": [
    "1. age ↔ total_spend <br>\n",
    "Does the total spend increase with age?"
   ],
   "id": "70cfeac64f45ef59"
  },
  {
   "metadata": {},
   "cell_type": "code",
   "outputs": [],
   "execution_count": null,
   "source": "",
   "id": "1ba72ef097bad928"
  },
  {
   "metadata": {},
   "cell_type": "markdown",
   "source": [
    "2. age ↔ transaction_count <br>\n",
    "Do younger or older customers shop more frequently?"
   ],
   "id": "1c79c0eb68abcac9"
  },
  {
   "metadata": {},
   "cell_type": "code",
   "outputs": [],
   "execution_count": null,
   "source": "",
   "id": "1e2e6e042bcefaa1"
  },
  {
   "metadata": {},
   "cell_type": "markdown",
   "source": [
    "3. gender ↔ total_spend <br>\n",
    "Is there a difference in spending levels between men and women?"
   ],
   "id": "1eeb099abc1610d0"
  },
  {
   "metadata": {},
   "cell_type": "code",
   "outputs": [],
   "execution_count": null,
   "source": "",
   "id": "f0e158ed7103befb"
  },
  {
   "metadata": {},
   "cell_type": "markdown",
   "source": [
    "4. gender ↔ payment_method <br>\n",
    "Does gender influence payment method preferences?"
   ],
   "id": "1b10628c4f631293"
  },
  {
   "metadata": {},
   "cell_type": "code",
   "outputs": [],
   "execution_count": null,
   "source": "",
   "id": "510f9c1cabee7fc0"
  },
  {
   "metadata": {},
   "cell_type": "markdown",
   "source": [
    "5. age_group ↔ Econ_Conf_level <br>\n",
    "Do different age groups respond differently to economic fluctuations?"
   ],
   "id": "c331a9f504e35cea"
  },
  {
   "metadata": {},
   "cell_type": "code",
   "outputs": [],
   "execution_count": null,
   "source": "",
   "id": "b195f7f721e04967"
  },
  {
   "metadata": {},
   "cell_type": "markdown",
   "source": [
    "6. gender ↔ Econ_Conf_level <br>\n",
    "Do genders respond differently to economic fluctuations?"
   ],
   "id": "aa2fa8471c7cc351"
  },
  {
   "metadata": {},
   "cell_type": "code",
   "outputs": [],
   "execution_count": null,
   "source": "",
   "id": "ea69c74db0f65d1c"
  },
  {
   "metadata": {},
   "cell_type": "markdown",
   "source": [
    "7. gender ↔ category <br>\n",
    "Do product category preferences vary by gender?"
   ],
   "id": "af4c86eaac3e5afa"
  },
  {
   "metadata": {},
   "cell_type": "code",
   "outputs": [],
   "execution_count": null,
   "source": "",
   "id": "d7f104fc2ba08d1"
  },
  {
   "metadata": {},
   "cell_type": "markdown",
   "source": [
    "8. age_group ↔ category <br>\n",
    "Do product category preferences change significantly by age group"
   ],
   "id": "537d68a6f7630a68"
  },
  {
   "metadata": {},
   "cell_type": "code",
   "outputs": [],
   "execution_count": null,
   "source": "",
   "id": "8590426ee95f76b4"
  }
 ],
 "metadata": {
  "kernelspec": {
   "name": "python3",
   "language": "python",
   "display_name": "Python 3 (ipykernel)"
  }
 },
 "nbformat": 4,
 "nbformat_minor": 5
}
