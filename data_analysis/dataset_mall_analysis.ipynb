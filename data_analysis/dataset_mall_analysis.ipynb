{
 "cells": [
  {
   "cell_type": "markdown",
   "id": "4f9a9955",
   "metadata": {},
   "source": [
    "# AVM Analysis\n",
    "\n",
    "\n"
   ]
  },
  {
   "metadata": {},
   "cell_type": "markdown",
   "source": [
    "1. shopping_mall ↔ total_spend <br>\n",
    "Which shopping mall generates the highest revenue?"
   ],
   "id": "aa050ff7dba3c841"
  },
  {
   "metadata": {},
   "cell_type": "code",
   "outputs": [],
   "execution_count": null,
   "source": "",
   "id": "4d109fc045c08637"
  },
  {
   "metadata": {},
   "cell_type": "markdown",
   "source": [
    "2. shopping_mall ↔ avg_basket_value <br>\n",
    "Does the average basket value differ across shopping malls?"
   ],
   "id": "9fb31eebe24feb26"
  },
  {
   "metadata": {},
   "cell_type": "code",
   "outputs": [],
   "execution_count": null,
   "source": "",
   "id": "9082da86db263fd"
  },
  {
   "metadata": {},
   "cell_type": "markdown",
   "source": [
    "3. shopping_mall ↔ transaction_count <br>\n",
    "Traffic volume by shopping mall"
   ],
   "id": "894d79b8ebc12208"
  },
  {
   "metadata": {},
   "cell_type": "code",
   "outputs": [],
   "execution_count": null,
   "source": "",
   "id": "cdefae482d777a73"
  },
  {
   "metadata": {},
   "cell_type": "markdown",
   "source": [
    "4. shopping_mall ↔ season <br>\n",
    "Seasonal variation in shopping mall performance"
   ],
   "id": "f87710bf1dec3da7"
  },
  {
   "metadata": {},
   "cell_type": "code",
   "outputs": [],
   "execution_count": null,
   "source": "",
   "id": "351ad7cda6314296"
  },
  {
   "metadata": {},
   "cell_type": "markdown",
   "source": [
    "5. shopping_mall ↔ day‑of‑week <br>\n",
    "Daily traffic patterns across shopping malls"
   ],
   "id": "c0ce438e1ffa7738"
  },
  {
   "metadata": {},
   "cell_type": "code",
   "outputs": [],
   "execution_count": null,
   "source": "",
   "id": "46831203933a6297"
  },
  {
   "metadata": {},
   "cell_type": "markdown",
   "source": [
    "6. shopping_mall ↔ Econ_Conf_level <br>\n",
    "Which shopping mall is more resilient when consumer confidence declines?\n"
   ],
   "id": "4e94c44e49c7bf08"
  },
  {
   "metadata": {},
   "cell_type": "code",
   "outputs": [],
   "execution_count": null,
   "source": "",
   "id": "6a3c88b81d4a1a39"
  },
  {
   "metadata": {},
   "cell_type": "markdown",
   "source": [
    "7. shopping_mall ↔ category <br>\n",
    "Which product categories are preferred at which shopping malls?"
   ],
   "id": "e83d36961ed09102"
  },
  {
   "metadata": {},
   "cell_type": "code",
   "outputs": [],
   "execution_count": null,
   "source": "",
   "id": "995affc30b914dad"
  }
 ],
 "metadata": {},
 "nbformat": 4,
 "nbformat_minor": 5
}
