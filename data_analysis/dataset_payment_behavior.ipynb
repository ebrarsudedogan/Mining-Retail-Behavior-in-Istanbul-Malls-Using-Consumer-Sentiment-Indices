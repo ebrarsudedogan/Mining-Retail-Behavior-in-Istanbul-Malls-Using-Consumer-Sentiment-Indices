{
 "cells": [
  {
   "cell_type": "markdown",
   "id": "87a1fb86",
   "metadata": {},
   "source": "# Payment Behaviour"
  },
  {
   "metadata": {},
   "cell_type": "markdown",
   "source": [
    "1. payment_method ↔ invoice_date <br>\n",
    "What are the trends in payment method shares over time?"
   ],
   "id": "81ca2b72867269c"
  },
  {
   "metadata": {},
   "cell_type": "code",
   "outputs": [],
   "execution_count": null,
   "source": "",
   "id": "74c51f90b634c3a9"
  },
  {
   "metadata": {},
   "cell_type": "markdown",
   "source": [
    "2. payment_method ↔ gender <br>\n",
    "How does payment method preference vary by gender?"
   ],
   "id": "6221449696db66fa"
  },
  {
   "metadata": {},
   "cell_type": "code",
   "outputs": [],
   "execution_count": null,
   "source": "",
   "id": "be1efbc8a8b8c009"
  },
  {
   "metadata": {},
   "cell_type": "markdown",
   "source": [
    "3. payment_method ↔ Econ_Conf_level <br>\n",
    "Does card usage increase when consumer confidence declines?"
   ],
   "id": "a2dbe9cd549346fc"
  },
  {
   "metadata": {},
   "cell_type": "code",
   "outputs": [],
   "execution_count": null,
   "source": "",
   "id": "4402c51e566d1c00"
  },
  {
   "metadata": {},
   "cell_type": "markdown",
   "source": [
    "4. payment_method ↔ category <br>\n",
    "Does payment method choice differ by product category?"
   ],
   "id": "22cf04421f6c4ec0"
  },
  {
   "metadata": {},
   "cell_type": "code",
   "outputs": [],
   "execution_count": null,
   "source": "",
   "id": "536b87481524f6cb"
  },
  {
   "metadata": {},
   "cell_type": "markdown",
   "source": [
    "5. payment_method ↔ basket_total_price <br>\n",
    "Which payment methods are used for high-value baskets?"
   ],
   "id": "dc9abffb14d84900"
  },
  {
   "metadata": {},
   "cell_type": "code",
   "outputs": [],
   "execution_count": null,
   "source": "",
   "id": "9ab6adeea7d90383"
  },
  {
   "metadata": {},
   "cell_type": "markdown",
   "source": [
    "6. credit_card_share ↔ Econ_Conf (lag 0/+1) <br>\n",
    "How does the credit card usage rate respond to changes in the consumer confidence index?"
   ],
   "id": "8b3535b65b7e6ff8"
  },
  {
   "metadata": {},
   "cell_type": "code",
   "outputs": [],
   "execution_count": null,
   "source": "",
   "id": "8612e39d96651ddc"
  }
 ],
 "metadata": {},
 "nbformat": 4,
 "nbformat_minor": 5
}
