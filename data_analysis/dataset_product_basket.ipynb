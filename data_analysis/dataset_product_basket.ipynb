{
 "cells": [
  {
   "cell_type": "markdown",
   "id": "18101bdd",
   "metadata": {},
   "source": [
    "# Product Analysis\n",
    "\n"
   ]
  },
  {
   "metadata": {},
   "cell_type": "markdown",
   "source": [
    "1. category ↔ gender <br>\n",
    "Does gender influence product category preferences?"
   ],
   "id": "3444c79111ac5acc"
  },
  {
   "metadata": {},
   "cell_type": "code",
   "outputs": [],
   "execution_count": null,
   "source": "",
   "id": "a4672fcbad9f5bd"
  },
  {
   "metadata": {},
   "cell_type": "markdown",
   "source": [
    "2. category ↔ payment_method <br>\n",
    "Does payment method affect category selection?"
   ],
   "id": "8ae13e2706f7adc1"
  },
  {
   "metadata": {},
   "cell_type": "code",
   "outputs": [],
   "execution_count": null,
   "source": "",
   "id": "3b7f66e5d55f2dd3"
  },
  {
   "metadata": {},
   "cell_type": "markdown",
   "source": [
    "3. category ↔ Econ_Conf_level <br>\n",
    "Which product categories are most impacted when consumer confidence declines?"
   ],
   "id": "f36897b556732bf6"
  },
  {
   "metadata": {},
   "cell_type": "code",
   "outputs": [],
   "execution_count": null,
   "source": "",
   "id": "9d1a940c490ed94"
  },
  {
   "metadata": {},
   "cell_type": "markdown",
   "source": [
    "4. luxury_category_flag ↔ Econ_Conf_change_pct <br>\n",
    "How sensitive is luxury spending to changes in the consumer confidence index?"
   ],
   "id": "4e77ca0b20756fd7"
  },
  {
   "metadata": {},
   "cell_type": "code",
   "outputs": [],
   "execution_count": null,
   "source": "",
   "id": "882a36e203d94547"
  }
 ],
 "metadata": {},
 "nbformat": 4,
 "nbformat_minor": 5
}
