{
 "cells": [
  {
   "cell_type": "markdown",
   "id": "18101bdd",
   "metadata": {},
   "source": [
    "# Product Analysis\n",
    "\n"
   ]
  },
  {
   "metadata": {},
   "cell_type": "code",
   "outputs": [],
   "execution_count": null,
   "source": [
    "# -------------------------------------------------------------------\n",
    "# Setup cell — place this at the top of every analysis notebook\n",
    "# -------------------------------------------------------------------\n",
    "# Core libraries\n",
    "import pandas as pd\n",
    "import numpy as np\n",
    "import seaborn as sns\n",
    "import matplotlib.pyplot as plt\n",
    "from scipy import stats\n",
    "from statsmodels.graphics.mosaicplot import mosaic\n",
    "\n",
    "df = pd.read_csv(\"../datasets/customer_shopping_data_v5.csv\")\n",
    "sns.set_theme(style=\"whitegrid\")\n",
    "\n",
    "color1 = '#FF9E9D'  # Coral Pink\n",
    "color2 = '#FFC785'  # Peach\n",
    "color3 = '#FFF59D'  # Light Lemon\n",
    "color4 = '#A0E6A6'  # Mint Green\n",
    "color5 = '#87C8FF'  # Sky Blue\n",
    "color6 = '#C4A2FF'  # Lavender"
   ],
   "id": "6de5ed2d9d7ff7a6"
  },
  {
   "metadata": {},
   "cell_type": "markdown",
   "source": [
    "1. category ↔ Econ_Conf_level <br>\n",
    "Which product categories are most impacted when consumer confidence declines?"
   ],
   "id": "f36897b556732bf6"
  },
  {
   "metadata": {},
   "cell_type": "code",
   "outputs": [],
   "execution_count": null,
   "source": "",
   "id": "9d1a940c490ed94"
  },
  {
   "metadata": {},
   "cell_type": "markdown",
   "source": [
    "2. luxury_category_flag ↔ Econ_Conf_change_pct <br>\n",
    "How sensitive is luxury spending to changes in the consumer confidence index?"
   ],
   "id": "4e77ca0b20756fd7"
  },
  {
   "metadata": {},
   "cell_type": "code",
   "outputs": [],
   "execution_count": null,
   "source": "",
   "id": "882a36e203d94547"
  }
 ],
 "metadata": {},
 "nbformat": 4,
 "nbformat_minor": 5
}
