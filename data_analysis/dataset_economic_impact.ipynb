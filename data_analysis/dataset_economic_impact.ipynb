{
 "cells": [
  {
   "cell_type": "markdown",
   "id": "1a61af5a",
   "metadata": {},
   "source": [
    "# Economic Impact\n",
    "\n",
    "\n"
   ]
  },
  {
   "metadata": {},
   "cell_type": "markdown",
   "source": [
    "1. Various indices ↔ daily_total_spend <br>\n",
    "Which index has the strongest correlation with sales?"
   ],
   "id": "dba863b89c93751a"
  },
  {
   "metadata": {},
   "cell_type": "code",
   "outputs": [],
   "execution_count": null,
   "source": "",
   "id": "74e5d4fc4bcd916b"
  },
  {
   "metadata": {},
   "cell_type": "markdown",
   "source": [
    "2. Econ_Conf (lag ±1/±3) ↔ total_spend <br>\n",
    "Is there a leading/lagging relationship?"
   ],
   "id": "56345534ae7861eb"
  },
  {
   "metadata": {},
   "cell_type": "code",
   "outputs": [],
   "execution_count": null,
   "source": "",
   "id": "2a622da3ae0b3494"
  },
  {
   "metadata": {},
   "cell_type": "markdown",
   "source": [
    "3. Econ_Conf_threshold (≤90 vs >90) ↔ payment_method_distribution <br>\n",
    "Does payment behavior change when the confidence threshold is crossed?"
   ],
   "id": "9f1643d81cef695e"
  },
  {
   "metadata": {},
   "cell_type": "code",
   "outputs": [],
   "execution_count": null,
   "source": "",
   "id": "fcb0c7c03fec324a"
  },
  {
   "metadata": {},
   "cell_type": "markdown",
   "source": [
    "4. Econ_Conf_change_pct ↔ luxury_vs_basic_spend <br>\n",
    "How does a drop in the index affect the ratio of luxury to basic spending?"
   ],
   "id": "870977ca6a157d23"
  },
  {
   "metadata": {},
   "cell_type": "code",
   "outputs": [],
   "execution_count": null,
   "source": "",
   "id": "4d0951544d8c7268"
  },
  {
   "metadata": {},
   "cell_type": "markdown",
   "source": [
    "5. Econ_Conf ↔ customer_segment (high vs low spenders) <br>\n",
    "How do fluctuations affect spending across different customer segments?"
   ],
   "id": "aff18337f34c81eb"
  },
  {
   "metadata": {},
   "cell_type": "code",
   "outputs": [],
   "execution_count": null,
   "source": "",
   "id": "638f472beb42ba9d"
  }
 ],
 "metadata": {},
 "nbformat": 4,
 "nbformat_minor": 5
}
