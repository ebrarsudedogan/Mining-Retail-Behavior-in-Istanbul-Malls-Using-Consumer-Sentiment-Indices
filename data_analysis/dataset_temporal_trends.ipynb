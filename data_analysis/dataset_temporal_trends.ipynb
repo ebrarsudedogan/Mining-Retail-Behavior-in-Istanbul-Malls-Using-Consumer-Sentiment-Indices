{
 "cells": [
  {
   "cell_type": "markdown",
   "id": "c014d5c8",
   "metadata": {},
   "source": [
    "# Temporal Trends\n",
    "\n",
    "\n"
   ]
  },
  {
   "metadata": {},
   "cell_type": "markdown",
   "source": [
    "1. invoice_date ↔ daily_total_spend <br>\n",
    "What are the trends and fluctuations in daily revenue?"
   ],
   "id": "35cb3ab8a14d113b"
  },
  {
   "metadata": {},
   "cell_type": "code",
   "outputs": [],
   "execution_count": null,
   "source": "",
   "id": "ac09f22e8bc064f1"
  },
  {
   "metadata": {},
   "cell_type": "markdown",
   "source": [
    "2. invoice_date ↔ daily_transaction_count <br>\n",
    "How does daily transaction volume vary seasonally and periodically?"
   ],
   "id": "44a5084f5a01fbf3"
  },
  {
   "metadata": {},
   "cell_type": "code",
   "outputs": [],
   "execution_count": null,
   "source": "",
   "id": "83f2da92b2af1214"
  },
  {
   "metadata": {},
   "cell_type": "markdown",
   "source": [
    "3. invoice_date (weekly) ↔ weekly_total_spend <br>\n",
    "What is the weekly sales momentum (with noise reduction)?"
   ],
   "id": "2fc9d1402b8ee31f"
  },
  {
   "metadata": {},
   "cell_type": "code",
   "outputs": [],
   "execution_count": null,
   "source": "",
   "id": "9fa9514ad9093910"
  },
  {
   "metadata": {},
   "cell_type": "markdown",
   "source": [
    "4. season ↔ total_spend <br>\n",
    "Are seasonal differences in revenue significant?"
   ],
   "id": "e479cda9c9a336f1"
  },
  {
   "metadata": {},
   "cell_type": "code",
   "outputs": [],
   "execution_count": null,
   "source": "",
   "id": "99edd30ac7c149e9"
  },
  {
   "metadata": {},
   "cell_type": "markdown",
   "source": [
    "5. season ↔ transaction_count <br>\n",
    "Do seasons influence the number of transactions?"
   ],
   "id": "3a703a9a8a1c3a4"
  },
  {
   "metadata": {},
   "cell_type": "code",
   "outputs": [],
   "execution_count": null,
   "source": "",
   "id": "fcc181c77c67a71a"
  },
  {
   "metadata": {},
   "cell_type": "markdown",
   "source": [
    "6. is_weekday ↔ total_spend / transaction_count <br>\n",
    "What is the weekday vs. weekend difference in revenue and transaction volume?"
   ],
   "id": "3d8d22f87c5ec7f"
  },
  {
   "metadata": {},
   "cell_type": "code",
   "outputs": [],
   "execution_count": null,
   "source": "",
   "id": "2dd4ad55b5622313"
  },
  {
   "metadata": {},
   "cell_type": "markdown",
   "source": [
    "7. is_holiday ↔ total_spend <br>\n",
    "How do official holidays impact sales?"
   ],
   "id": "b009608c8fb764aa"
  },
  {
   "metadata": {},
   "cell_type": "code",
   "outputs": [],
   "execution_count": null,
   "source": "",
   "id": "f29feaf8e5706182"
  },
  {
   "metadata": {},
   "cell_type": "markdown",
   "source": [
    "8. Econ_Conf (lag 0/+1/+3) ↔ total_spend <br>\n",
    "How many months later do changes in economic confidence affect sales?"
   ],
   "id": "bff03561f1d25bd9"
  },
  {
   "metadata": {},
   "cell_type": "code",
   "outputs": [],
   "execution_count": null,
   "source": "",
   "id": "91ea853955a8c920"
  },
  {
   "metadata": {},
   "cell_type": "markdown",
   "source": [
    "9. Retail_Conf (lag 0/+1/+3) ↔ total_spend <br>\n",
    "How closely do sales track with retail confidence?"
   ],
   "id": "d0233591b11bdab5"
  },
  {
   "metadata": {},
   "cell_type": "code",
   "outputs": [],
   "execution_count": null,
   "source": "",
   "id": "36a204d7ebf8c07e"
  },
  {
   "metadata": {},
   "cell_type": "markdown",
   "source": [
    "10. day‑of‑week ↔ total_spend / transaction_count <br>\n",
    "Which day of the week sees the highest revenue and transaction volume?"
   ],
   "id": "b229584d1bc09f84"
  },
  {
   "metadata": {},
   "cell_type": "code",
   "outputs": [],
   "execution_count": null,
   "source": "",
   "id": "76ff049f9e0ccb82"
  }
 ],
 "metadata": {},
 "nbformat": 4,
 "nbformat_minor": 5
}
