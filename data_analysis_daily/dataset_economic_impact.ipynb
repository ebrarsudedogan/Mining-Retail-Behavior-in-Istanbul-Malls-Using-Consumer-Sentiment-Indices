{
 "cells": [
  {
   "cell_type": "markdown",
   "id": "1a61af5a",
   "metadata": {},
   "source": [
    "# Economic Impact\n",
    "\n",
    "\n"
   ]
  },
  {
   "metadata": {},
   "cell_type": "code",
   "outputs": [],
   "execution_count": null,
   "source": [
    "# -------------------------------------------------------------------\n",
    "# Setup cell — place this at the top of every analysis notebook\n",
    "# -------------------------------------------------------------------\n",
    "# Core libraries\n",
    "import pandas as pd\n",
    "import numpy as np\n",
    "import seaborn as sns\n",
    "import matplotlib.pyplot as plt\n",
    "from scipy import stats\n",
    "from statsmodels.graphics.mosaicplot import mosaic\n",
    "\n",
    "df = pd.read_csv(\"../datasets/customer_shopping_data_v5.csv\")\n",
    "sns.set_theme(style=\"whitegrid\")\n",
    "\n",
    "color1 = '#FF9E9D'  # Coral Pink\n",
    "color2 = '#FFC785'  # Peach\n",
    "color3 = '#FFF59D'  # Light Lemon\n",
    "color4 = '#A0E6A6'  # Mint Green\n",
    "color5 = '#87C8FF'  # Sky Blue\n",
    "color6 = '#C4A2FF'  # Lavender"
   ],
   "id": "5d0a1487000de8b0"
  },
  {
   "metadata": {},
   "cell_type": "markdown",
   "source": [
    "1. Various indices ↔ daily_total_spend <br>\n",
    "Which index has the strongest correlation with sales?"
   ],
   "id": "dba863b89c93751a"
  },
  {
   "metadata": {},
   "cell_type": "code",
   "outputs": [],
   "execution_count": null,
   "source": "",
   "id": "74e5d4fc4bcd916b"
  },
  {
   "metadata": {},
   "cell_type": "markdown",
   "source": [
    "2. Econ_Conf (lag ±1/±3) ↔ total_spend <br>\n",
    "Is there a leading/lagging relationship?"
   ],
   "id": "56345534ae7861eb"
  },
  {
   "metadata": {},
   "cell_type": "code",
   "outputs": [],
   "execution_count": null,
   "source": "",
   "id": "2a622da3ae0b3494"
  },
  {
   "metadata": {},
   "cell_type": "markdown",
   "source": [
    "3. Econ_Conf_threshold (≤90 vs >90) ↔ payment_method_distribution <br>\n",
    "Does payment behavior change when the confidence threshold is crossed?"
   ],
   "id": "9f1643d81cef695e"
  },
  {
   "metadata": {},
   "cell_type": "code",
   "outputs": [],
   "execution_count": null,
   "source": "",
   "id": "fcb0c7c03fec324a"
  },
  {
   "metadata": {},
   "cell_type": "markdown",
   "source": [
    "4. Econ_Conf_change_pct ↔ luxury_vs_basic_spend <br>\n",
    "How does a drop in the index affect the ratio of luxury to basic spending?"
   ],
   "id": "870977ca6a157d23"
  },
  {
   "metadata": {},
   "cell_type": "code",
   "outputs": [],
   "execution_count": null,
   "source": "",
   "id": "4d0951544d8c7268"
  },
  {
   "metadata": {},
   "cell_type": "markdown",
   "source": [
    "5. Econ_Conf ↔ customer_segment (high vs low spenders) <br>\n",
    "How do fluctuations affect spending across different customer segments?"
   ],
   "id": "aff18337f34c81eb"
  },
  {
   "metadata": {},
   "cell_type": "code",
   "outputs": [],
   "execution_count": null,
   "source": "",
   "id": "638f472beb42ba9d"
  },
  {
   "metadata": {},
   "cell_type": "markdown",
   "source": [
    "6. shopping_mall ↔ Econ_Conf_level <br>\n",
    "Which shopping mall is more resilient when consumer confidence declines?\n"
   ],
   "id": "d73e09fcca1eb111"
  },
  {
   "metadata": {},
   "cell_type": "code",
   "outputs": [],
   "execution_count": null,
   "source": "",
   "id": "bf22d468d51d1639"
  },
  {
   "metadata": {},
   "cell_type": "markdown",
   "source": [
    "8. Econ_Conf (lag 0/+1/+3) ↔ total_spend <br>\n",
    "How many months later do changes in economic confidence affect sales?"
   ],
   "id": "4c290abc792f0a07"
  },
  {
   "metadata": {},
   "cell_type": "code",
   "outputs": [],
   "execution_count": null,
   "source": "",
   "id": "23372c0c6385da4"
  },
  {
   "metadata": {},
   "cell_type": "markdown",
   "source": [
    "9. Retail_Conf (lag 0/+1/+3) ↔ total_spend <br>\n",
    "How closely do sales track with retail confidence?"
   ],
   "id": "cc2c7950985ea24b"
  },
  {
   "metadata": {},
   "cell_type": "code",
   "outputs": [],
   "execution_count": null,
   "source": "",
   "id": "9135b67ee6c4a866"
  },
  {
   "metadata": {},
   "cell_type": "markdown",
   "source": [
    "1. category ↔ Econ_Conf_level <br>\n",
    "Which product categories are most impacted when consumer confidence declines?"
   ],
   "id": "d199befeb4eefcca"
  },
  {
   "metadata": {},
   "cell_type": "code",
   "outputs": [],
   "execution_count": null,
   "source": "",
   "id": "13e961267c3d5800"
  },
  {
   "metadata": {},
   "cell_type": "markdown",
   "source": [
    "2. luxury_category_flag ↔ Econ_Conf_change_pct <br>\n",
    "How sensitive is luxury spending to changes in the consumer confidence index?"
   ],
   "id": "f50615c71f969b1c"
  },
  {
   "metadata": {},
   "cell_type": "code",
   "outputs": [],
   "execution_count": null,
   "source": "",
   "id": "f52296ba8e7712fa"
  },
  {
   "metadata": {},
   "cell_type": "markdown",
   "source": [
    "3. payment_method ↔ Econ_Conf_level <br>\n",
    "Does card usage increase when consumer confidence declines?"
   ],
   "id": "72a291ceb5438b7a"
  },
  {
   "metadata": {},
   "cell_type": "code",
   "outputs": [],
   "execution_count": null,
   "source": "",
   "id": "332a807473b14cc6"
  },
  {
   "metadata": {},
   "cell_type": "markdown",
   "source": [
    "6. credit_card_share ↔ Econ_Conf (lag 0/+1) <br>\n",
    "How does the credit card usage rate respond to changes in the consumer confidence index?"
   ],
   "id": "a5f641f53d514bfa"
  },
  {
   "metadata": {},
   "cell_type": "code",
   "outputs": [],
   "execution_count": null,
   "source": "",
   "id": "a965d0dcd9562951"
  },
  {
   "metadata": {},
   "cell_type": "markdown",
   "source": [
    "4. age_group ↔ Econ_Conf_level <br>\n",
    "Do different age groups respond differently to economic fluctuations?"
   ],
   "id": "394ae7a29705d68e"
  },
  {
   "metadata": {},
   "cell_type": "markdown",
   "source": [
    "5. gender ↔ Econ_Conf_level <br>\n",
    "Do genders respond differently to economic fluctuations?"
   ],
   "id": "2b7a69f6162d2c98"
  }
 ],
 "metadata": {},
 "nbformat": 4,
 "nbformat_minor": 5
}
