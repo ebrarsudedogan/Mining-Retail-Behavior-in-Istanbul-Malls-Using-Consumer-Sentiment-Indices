{
 "cells": [
  {
   "cell_type": "code",
   "id": "initial_id",
   "metadata": {
    "collapsed": true,
    "ExecuteTime": {
     "end_time": "2025-07-10T19:34:52.365533Z",
     "start_time": "2025-07-10T19:34:52.110442Z"
    }
   },
   "source": [
    "import pandas as pd\n",
    "\n",
    "# Load the datasets\n",
    "df_v14 = pd.read_csv(\"../datasets/customer_shopping_data_v14.csv\")\n",
    "df_v23 = pd.read_csv(\"../datasets/customer_shopping_data_v23.csv\")\n",
    "\n",
    "# Merge cluster info into v14\n",
    "df_merged = df_v14.copy()\n",
    "df_merged[\"cluster\"] = df_v23[\"cluster\"]\n",
    "\n",
    "# Convert invoice_date to datetime and extract month\n",
    "df_merged[\"invoice_date\"] = pd.to_datetime(df_merged[\"invoice_date\"])\n",
    "df_merged[\"month\"] = df_merged[\"invoice_date\"].dt.to_period(\"M\")\n",
    "\n",
    "# Aggregate metrics for each cluster per month\n",
    "monthly_summary = (\n",
    "    df_merged.groupby([\"cluster\", \"month\"])\n",
    "    .agg(\n",
    "        total_transactions=(\"invoice_no\", \"count\"),\n",
    "        total_spend=(\"total_price\", \"sum\"),\n",
    "        ipsos_mean=(\"ipsos_confidence\", \"mean\"),\n",
    "        cons_conf_mean=(\"Cons_Conf\", \"mean\")\n",
    "    )\n",
    "    .reset_index()\n",
    ")\n",
    "\n",
    "# Save each cluster's time series into separate CSV files\n",
    "for cluster_id in monthly_summary[\"cluster\"].unique():\n",
    "    df_cluster = monthly_summary[monthly_summary[\"cluster\"] == cluster_id]\n",
    "    df_cluster.to_csv(f\"../datasets/cluster_{cluster_id}_series.csv\", index=False)\n"
   ],
   "outputs": [],
   "execution_count": 1
  }
 ],
 "metadata": {
  "kernelspec": {
   "display_name": "Python 3",
   "language": "python",
   "name": "python3"
  },
  "language_info": {
   "codemirror_mode": {
    "name": "ipython",
    "version": 2
   },
   "file_extension": ".py",
   "mimetype": "text/x-python",
   "name": "python",
   "nbconvert_exporter": "python",
   "pygments_lexer": "ipython2",
   "version": "2.7.6"
  }
 },
 "nbformat": 4,
 "nbformat_minor": 5
}
