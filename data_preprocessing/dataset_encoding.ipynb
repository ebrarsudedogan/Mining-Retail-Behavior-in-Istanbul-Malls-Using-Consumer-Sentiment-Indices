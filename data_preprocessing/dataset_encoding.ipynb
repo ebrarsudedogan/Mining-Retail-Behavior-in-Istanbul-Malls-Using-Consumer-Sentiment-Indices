{
 "cells": [
  {
   "cell_type": "markdown",
   "id": "d26b849d",
   "metadata": {},
   "source": [
    "# Dataset Encoding\n",
    "This notebook applies encoding to categorical variables and drops unnecessary columns."
   ]
  },
  {
   "cell_type": "markdown",
   "id": "f58378ef",
   "metadata": {},
   "source": [
    "## Columns to drop\n",
    "- `invoice_no`\n",
    "- `customer_id`"
   ]
  },
  {
   "metadata": {},
   "cell_type": "markdown",
   "source": [
    "## Encoding plan\n",
    "- `gender`: Binary encoding (0/1)\n",
    "- `category`: One-hot encoding\n",
    "- `payment_method`: One-hot encoding\n",
    "- `shopping_mall`: One-hot encoding\n",
    "- `season`: One-hot encoding"
   ],
   "id": "25e37d62"
  },
  {
   "metadata": {
    "ExecuteTime": {
     "end_time": "2025-07-10T18:20:09.336554Z",
     "start_time": "2025-07-10T18:20:08.745242Z"
    }
   },
   "cell_type": "code",
   "source": [
    "import pandas as pd\n",
    "from sklearn.preprocessing import OneHotEncoder\n",
    "\n",
    "df = pd.read_csv('../datasets/customer_shopping_data_v18.csv')\n",
    "categorical_cols = [\"gender\", \"payment_method\", \"category\", \"season\"]\n",
    "\n",
    "encoder = OneHotEncoder(drop=\"first\")\n",
    "encoded_cat = encoder.fit_transform(df[categorical_cols]).toarray()\n",
    "encoded_cat_df = pd.DataFrame(encoded_cat, columns=encoder.get_feature_names_out(categorical_cols))\n",
    "\n",
    "df_encoded = pd.concat([df.drop(columns=categorical_cols).reset_index(drop=True), encoded_cat_df], axis=1)\n",
    "df_encoded.to_csv(\"../datasets/customer_shopping_data_v19.csv\", index=False)\n"
   ],
   "id": "a6886134",
   "outputs": [],
   "execution_count": 7
  }
 ],
 "metadata": {
  "kernelspec": {
   "name": "python3",
   "language": "python",
   "display_name": "Python 3 (ipykernel)"
  }
 },
 "nbformat": 4,
 "nbformat_minor": 5
}
