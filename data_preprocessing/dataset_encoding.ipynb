{
 "cells": [
  {
   "cell_type": "markdown",
   "id": "d26b849d",
   "metadata": {},
   "source": [
    "# Dataset Encoding\n",
    "This notebook applies encoding to categorical variables and drops unnecessary columns."
   ]
  },
  {
   "cell_type": "markdown",
   "id": "f58378ef",
   "metadata": {},
   "source": [
    "## Columns to drop\n",
    "- `invoice_no`\n",
    "- `customer_id`"
   ]
  },
  {
   "cell_type": "code",
   "execution_count": null,
   "id": "a6886134",
   "metadata": {},
   "outputs": [],
   "source": [
    "# Drop columns\n",
    "df = df.drop(columns=['invoice_no', 'customer_id'])"
   ]
  },
  {
   "cell_type": "markdown",
   "id": "25e37d62",
   "metadata": {},
   "source": [
    "## Encoding plan\n",
    "- `gender`: Binary encoding (0/1)\n",
    "- `category`: One-hot encoding\n",
    "- `payment_method`: One-hot encoding\n",
    "- `shopping_mall`: One-hot encoding\n",
    "- `season`: One-hot encoding"
   ]
  },
  {
   "cell_type": "code",
   "execution_count": null,
   "id": "50db940b",
   "metadata": {},
   "outputs": [],
   "source": [
    "# Binary encoding for `gender`\n",
    "df['gender'] = df['gender'].map({'Male': 1, 'Female': 0})"
   ]
  },
  {
   "cell_type": "code",
   "execution_count": null,
   "id": "fbf51062",
   "metadata": {},
   "outputs": [],
   "source": [
    "# One-hot encoding for other categorical columns\n",
    "df = pd.get_dummies(df, columns=['category', 'payment_method', 'shopping_mall', 'season'], drop_first=True)"
   ]
  },
  {
   "cell_type": "markdown",
   "id": "4ce0090a",
   "metadata": {},
   "source": [
    "## Save encoded dataset\n",
    "Saving the encoded dataset as `customer_shopping_data_v14_encoded.csv`."
   ]
  },
  {
   "cell_type": "code",
   "execution_count": null,
   "id": "dfe66cb0",
   "metadata": {},
   "outputs": [],
   "source": [
    "# Save encoded dataset\n",
    "df.to_csv('../datasets/customer_shopping_data_v14_encoded.csv', index=False)"
   ]
  }
 ],
 "metadata": {},
 "nbformat": 4,
 "nbformat_minor": 5
}
