{
 "cells": [
  {
   "metadata": {},
   "cell_type": "markdown",
   "source": "# DATASET INTEGRATION",
   "id": "ffa8e27ebe4a4e75"
  },
  {
   "metadata": {
    "ExecuteTime": {
     "end_time": "2025-06-10T18:08:03.670939Z",
     "start_time": "2025-06-10T18:08:03.214988Z"
    }
   },
   "cell_type": "code",
   "source": [
    "# Import required libraries.\n",
    "import pandas as pd\n",
    "\n",
    "df = pd.read_csv('../datasets/customer_shopping_data_v0.csv')"
   ],
   "id": "b60d669a6329c6a1",
   "outputs": [],
   "execution_count": 1
  },
  {
   "metadata": {},
   "cell_type": "markdown",
   "source": "#### v1 = date version is transformed from DD-MM-YY to YYYY-MM-DD",
   "id": "569d0c21a16fd209"
  },
  {
   "metadata": {
    "ExecuteTime": {
     "end_time": "2025-06-01T11:23:45.119629Z",
     "start_time": "2025-06-01T11:23:44.799105Z"
    }
   },
   "cell_type": "code",
   "source": [
    "# Save the processed data.\n",
    "df['invoice_date'] = pd.to_datetime(df['invoice_date'], dayfirst=True)\n",
    "df.to_csv('../datasets/customer_shopping_data_v1.csv', index=False)"
   ],
   "id": "initial_id",
   "outputs": [],
   "execution_count": 9
  },
  {
   "metadata": {},
   "cell_type": "markdown",
   "source": "",
   "id": "394d37f2ef2169b0"
  },
  {
   "metadata": {},
   "cell_type": "markdown",
   "source": "#### v2 = 'season' column is added",
   "id": "54bf7c0d93e21543"
  },
  {
   "metadata": {
    "ExecuteTime": {
     "end_time": "2025-06-01T11:23:47.000222Z",
     "start_time": "2025-06-01T11:23:46.554050Z"
    }
   },
   "cell_type": "code",
   "source": [
    "# Load dataset from file.\n",
    "def get_season(month):\n",
    "    if month in [12, 1, 2]:\n",
    "        return 'Winter'\n",
    "    elif month in [3, 4, 5]:\n",
    "        return 'Spring'\n",
    "    elif month in [6, 7, 8]:\n",
    "        return 'Summer'\n",
    "    elif month in [9, 10, 11]:\n",
    "        return 'Fall'\n",
    "    else:\n",
    "        return 'Null'\n",
    "\n",
    "df = pd.read_csv('../datasets/customer_shopping_data_v1.csv')\n",
    "df['season'] = pd.to_datetime(df['invoice_date']).dt.month.apply(get_season)\n",
    "\n",
    "df.to_csv('../datasets/customer_shopping_data_v2.csv', index=False)\n",
    "df = pd.read_csv('../datasets/customer_shopping_data_v2.csv')"
   ],
   "id": "bdf54f070b84cc76",
   "outputs": [],
   "execution_count": 10
  },
  {
   "metadata": {},
   "cell_type": "markdown",
   "source": "#### v3 = 'is_weekday' column is added",
   "id": "9399f6a67d2ff18b"
  },
  {
   "metadata": {
    "ExecuteTime": {
     "end_time": "2025-06-01T11:26:10.033355Z",
     "start_time": "2025-06-01T11:26:09.650408Z"
    }
   },
   "cell_type": "code",
   "source": [
    "# Create or transform features.\n",
    "def is_weekday(day):\n",
    "    if day < 5:  # 0-4 -> Monday - Friday\n",
    "        return 1\n",
    "    else:        # 5–6 -> Saturday - Sunday\n",
    "        return 0\n",
    "\n",
    "df['is_weekday'] = pd.to_datetime(df['invoice_date']).dt.weekday.apply(is_weekday)\n",
    "\n",
    "df.to_csv('../datasets/customer_shopping_data_v3.csv', index=False)"
   ],
   "id": "d2e2924965c8903d",
   "outputs": [],
   "execution_count": 13
  },
  {
   "metadata": {},
   "cell_type": "markdown",
   "source": "",
   "id": "438abd59522ebe35"
  },
  {
   "metadata": {},
   "cell_type": "markdown",
   "source": "#### v4 = 'is_holiday' column is added",
   "id": "3a70a6104f609e66"
  },
  {
   "metadata": {},
   "cell_type": "code",
   "outputs": [],
   "execution_count": 1,
   "source": [
    "# Import required libraries.\n",
    "import pandas as pd\n",
    "import holidays\n",
    "\n",
    "df = pd.read_csv('../datasets/customer_shopping_data_v3.csv')\n",
    "df['invoice_date'] = pd.to_datetime(df['invoice_date'])\n",
    "\n",
    "date_range = pd.date_range(start='2021-01-01', end='2023-12-31')\n",
    "df_dates = pd.DataFrame({'date': date_range})\n",
    "\n",
    "turkiye_holidays = holidays.Turkey(years=[2021, 2022, 2023])\n",
    "df_dates['is_official_holiday'] = df_dates['date'].dt.date.isin(set(turkiye_holidays.keys()))\n",
    "df_dates['is_weekend'] = df_dates['date'].dt.weekday >= 5\n",
    "\n",
    "manual_full_holidays = [\n",
    "]\n",
    "manual_full_holidays = pd.to_datetime(manual_full_holidays).date\n",
    "df_dates['is_manual_full'] = df_dates['date'].dt.date.isin(manual_full_holidays)\n",
    "\n",
    "manual_half_holidays = [\n",
    "]\n",
    "manual_half_holidays = pd.to_datetime(manual_half_holidays).date\n",
    "df_dates['is_manual_half'] = df_dates['date'].dt.date.isin(manual_half_holidays)\n",
    "\n",
    "df_dates['is_holiday'] = 0\n",
    "df_dates.loc[df_dates['is_manual_half'], 'is_holiday'] = 2\n",
    "df_dates.loc[df_dates['is_official_holiday'] | df_dates['is_weekend'] | df_dates['is_manual_full'], 'is_holiday'] = 1\n",
    "\n",
    "df_dates = df_dates[['date', 'is_holiday']]\n",
    "df = df.merge(df_dates, left_on='invoice_date', right_on='date', how='left')\n",
    "df.drop(columns=['date'], inplace=True)\n",
    "\n",
    "df.to_csv('../datasets/customer_shopping_data_v4.csv', index=False)"
   ],
   "id": "49b6d5268eade454"
  },
  {
   "metadata": {},
   "cell_type": "markdown",
   "source": "#### v5 = economic indicators' columns are added by their date equality",
   "id": "74185e7cd23595f5"
  },
  {
   "metadata": {
    "ExecuteTime": {
     "end_time": "2025-06-09T20:25:11.569667Z",
     "start_time": "2025-06-09T20:25:10.843471Z"
    }
   },
   "cell_type": "code",
   "source": [
    "# Import required libraries.\n",
    "import pandas as pd\n",
    "\n",
    "df_shopping = pd.read_csv(\"../datasets/customer_shopping_data_v4.csv\")\n",
    "df_index = pd.read_csv(\"../datasets/economic_confident_indexes_extracted.csv\", sep=\";\")\n",
    "\n",
    "for col in [\"Econ_Conf\", \"Cons_Conf\", \"RealSec_Conf\", \"Serv_Conf\", \"Retail_Conf\", \"Constr_Conf\"]:\n",
    "    df_index[col] = df_index[col].str.replace(\",\", \".\").astype(float)\n",
    "\n",
    "df_shopping[\"invoice_date\"] = pd.to_datetime(df_shopping[\"invoice_date\"])\n",
    "df_shopping[\"Year\"] = df_shopping[\"invoice_date\"].dt.year\n",
    "df_shopping[\"Month\"] = df_shopping[\"invoice_date\"].dt.month\n",
    "\n",
    "df_merged = pd.merge(df_shopping, df_index, how=\"left\", on=[\"Year\", \"Month\"])\n",
    "df_merged.drop([\"Year\", \"Month\"], axis=1, inplace=True)\n",
    "\n",
    "df_merged.to_csv(\"../datasets/customer_shopping_data_v5.csv\", index=False)"
   ],
   "id": "d6e3fc74d9ea9b9c",
   "outputs": [],
   "execution_count": 8
  },
  {
   "metadata": {},
   "cell_type": "markdown",
   "source": "#### v6 = 'total_price' column added",
   "id": "8b8be831164fc694"
  },
  {
   "metadata": {
    "ExecuteTime": {
     "end_time": "2025-06-10T18:08:09.890998Z",
     "start_time": "2025-06-10T18:08:09.229572Z"
    }
   },
   "cell_type": "code",
   "source": [
    "df = pd.read_csv(\"../datasets/customer_shopping_data_v5.csv\") \n",
    "\n",
    "df[\"total_price\"] = df[\"price\"] * df[\"quantity\"]\n",
    "\n",
    "df.to_csv(\"../datasets/customer_shopping_data_v6.csv\", index=False)"
   ],
   "id": "4867f658df9b2af9",
   "outputs": [],
   "execution_count": 2
  },
  {
   "metadata": {},
   "cell_type": "markdown",
   "source": "",
   "id": "c489b26969e5e4f3"
  },
  {
   "metadata": {
    "ExecuteTime": {
     "end_time": "2025-06-10T18:53:38.173066Z",
     "start_time": "2025-06-10T18:53:37.609243Z"
    }
   },
   "cell_type": "code",
   "source": [
    "import pandas as pd\n",
    "\n",
    "# Drop list\n",
    "drop_cols = ['Serv_Conf', 'Retail_Conf', 'Constr_Conf']\n",
    "\n",
    "# File mapping → hangi v dosyası → hangi clean versiyona kaydedilecek\n",
    "files = {\n",
    "    'v6': {\n",
    "        'path': '../datasets/customer_shopping_data_v6.csv',\n",
    "        'output': '../datasets/customer_shopping_data_v10.csv'\n",
    "    },\n",
    "    'v7': {\n",
    "        'path': '../datasets/customer_shopping_data_v7_weekly.csv',\n",
    "        'output': '../datasets/customer_shopping_data_v11_weekly.csv'\n",
    "    },\n",
    "    'v8': {\n",
    "        'path': '../datasets/customer_shopping_data_v8_monthly.csv',\n",
    "        'output': '../datasets/customer_shopping_data_v12_monthly.csv'\n",
    "    },\n",
    "    'v9': {\n",
    "        'path': '../datasets/customer_shopping_data_v9_yearly.csv',\n",
    "        'output': '../datasets/customer_shopping_data_v13_yearly.csv'\n",
    "    }\n",
    "}\n",
    "\n",
    "# Process each file\n",
    "for version, info in files.items():\n",
    "    df = pd.read_csv(info['path'])\n",
    "    df_clean = df.drop(columns=[col for col in drop_cols if col in df.columns])\n",
    "    df_clean.to_csv(info['output'], index=False)\n",
    "    print(f\"[{version}] Saved clean version: {info['output']}\")\n"
   ],
   "id": "7de92f45f4ac6c4c",
   "outputs": [
    {
     "name": "stdout",
     "output_type": "stream",
     "text": [
      "[v6] Saved clean version: ../datasets/customer_shopping_data_v10.csv\n",
      "[v7] Saved clean version: ../datasets/customer_shopping_data_v11_weekly.csv\n",
      "[v8] Saved clean version: ../datasets/customer_shopping_data_v12_monthly.csv\n",
      "[v9] Saved clean version: ../datasets/customer_shopping_data_v13_yearly.csv\n"
     ]
    }
   ],
   "execution_count": 3
  }
 ],
 "metadata": {
  "kernelspec": {
   "display_name": "Python 3",
   "language": "python",
   "name": "python3"
  },
  "language_info": {
   "codemirror_mode": {
    "name": "ipython",
    "version": 2
   },
   "file_extension": ".py",
   "mimetype": "text/x-python",
   "name": "python",
   "nbconvert_exporter": "python",
   "pygments_lexer": "ipython2",
   "version": "2.7.6"
  }
 },
 "nbformat": 4,
 "nbformat_minor": 5
}
