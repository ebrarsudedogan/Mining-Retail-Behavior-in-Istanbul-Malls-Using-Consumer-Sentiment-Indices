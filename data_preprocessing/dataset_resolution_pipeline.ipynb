{
 "cells": [
  {
   "cell_type": "markdown",
   "id": "a2313890",
   "metadata": {},
   "source": [
    "# Dataset Resolution Pipeline\n",
    "Generates **weekly (v7)**, **monthly (v8)**, and **yearly (v9)** aggregated datasets from `customer_shopping_data_v6.csv`."
   ]
  },
  {
   "cell_type": "markdown",
   "id": "9056e1b5",
   "metadata": {},
   "source": [
    "\n",
    "## Feature Transformation Summary\n",
    "\n",
    "| Feature | Weekly / Monthly | Yearly |\n",
    "|---------|------------------|--------|\n",
    "| `invoice_no`, `customer_id`, `is_weekday` | **Dropped** | **Dropped** |\n",
    "| `gender`, `category`, `payment_method`, `shopping_mall` | Frequency count (one column per category) | Same |\n",
    "| `age` | Mean age | Mean age |\n",
    "| `quantity`, `price`, `total_price` | Sum | Sum |\n",
    "| `invoice_date` | Converted to `week_key`, `month_key` | Converted to `year_key` |\n",
    "| `season` | Single season label (mode) | **Excluded** |\n",
    "| `is_holiday` | **`holiday_days`** = count of distinct holiday dates within period (max 7 for weekly) | Same logic (≤366) |\n",
    "| Econ & Confidence indices | Mean value | Mean value |\n"
   ]
  },
  {
   "cell_type": "code",
   "id": "540fef98",
   "metadata": {
    "ExecuteTime": {
     "end_time": "2025-06-10T18:17:58.470826Z",
     "start_time": "2025-06-10T18:17:58.286807Z"
    }
   },
   "source": [
    "# 1️⃣ Imports & load source\n",
    "import pandas as pd\n",
    "import numpy as np\n",
    "from pathlib import Path\n",
    "\n",
    "SOURCE_FILE = Path(\"../datasets/customer_shopping_data_v6.csv\")\n",
    "df = pd.read_csv(SOURCE_FILE)\n",
    "df['invoice_date'] = pd.to_datetime(df['invoice_date'], errors='coerce')\n",
    "\n",
    "# Ensure total_price exists\n",
    "if 'total_price' not in df.columns:\n",
    "    df['total_price'] = df['quantity'] * df['price']\n"
   ],
   "outputs": [],
   "execution_count": 6
  },
  {
   "cell_type": "code",
   "id": "4639f3ab",
   "metadata": {
    "ExecuteTime": {
     "end_time": "2025-06-10T18:17:58.474300Z",
     "start_time": "2025-06-10T18:17:58.471801Z"
    }
   },
   "source": [
    "# 2️⃣ Helper functions\n",
    "def add_time_keys(df):\n",
    "    out = df.copy()\n",
    "    out['week_key']  = out['invoice_date'].dt.to_period('W').dt.start_time\n",
    "    out['month_key'] = out['invoice_date'].dt.to_period('M').dt.to_timestamp()\n",
    "    out['year_key']  = out['invoice_date'].dt.to_period('Y').dt.start_time\n",
    "    return out\n",
    "\n",
    "def season_from_date(d):\n",
    "    m = d.month\n",
    "    return ('Winter','Spring','Summer','Fall')[(m % 12)//3]\n"
   ],
   "outputs": [],
   "execution_count": 7
  },
  {
   "cell_type": "code",
   "id": "1715e80b",
   "metadata": {
    "ExecuteTime": {
     "end_time": "2025-06-10T18:17:58.605309Z",
     "start_time": "2025-06-10T18:17:58.475043Z"
    }
   },
   "source": [
    "# 3️⃣ Add period keys + season\n",
    "df = add_time_keys(df)\n",
    "df['season'] = df['invoice_date'].apply(season_from_date)\n"
   ],
   "outputs": [],
   "execution_count": 8
  },
  {
   "cell_type": "code",
   "id": "68993985",
   "metadata": {
    "ExecuteTime": {
     "end_time": "2025-06-10T18:17:58.609150Z",
     "start_time": "2025-06-10T18:17:58.605838Z"
    }
   },
   "source": [
    "# 4️⃣ Aggregation function\n",
    "def aggregate_resolution(df, time_col, outfile, include_season=True):\n",
    "    grp = df.groupby(time_col)\n",
    "\n",
    "    # Numeric aggregations\n",
    "    numeric_aggs = {\n",
    "        'age': 'mean',\n",
    "        'quantity': 'sum',\n",
    "        'price': 'sum',\n",
    "        'total_price': 'sum',\n",
    "        'Econ_Conf': 'mean',\n",
    "        'Cons_Conf': 'mean',\n",
    "        'RealSec_Conf': 'mean',\n",
    "        'Serv_Conf': 'mean',\n",
    "        'Retail_Conf': 'mean',\n",
    "        'Constr_Conf': 'mean'\n",
    "    }\n",
    "    numeric = grp.agg(numeric_aggs)\n",
    "\n",
    "    # Holiday days count (unique dates where is_holiday == 1)\n",
    "    holiday_days = (df[df['is_holiday']==1]\n",
    "                    .assign(day=lambda x: x['invoice_date'].dt.normalize())\n",
    "                    .groupby(time_col)['day']\n",
    "                    .nunique()\n",
    "                    .rename('holiday_days'))\n",
    "    numeric = numeric.join(holiday_days, how='left').fillna({'holiday_days':0})\n",
    "\n",
    "    # Season label (mode) for weekly/monthly\n",
    "    if include_season:\n",
    "        season = grp['season'].agg(lambda x: x.mode().iat[0] if not x.mode().empty else np.nan)\n",
    "        numeric['season'] = season\n",
    "\n",
    "    # Frequency counts for categoricals\n",
    "    cat_cols = ['gender','category','payment_method','shopping_mall']\n",
    "    for col in cat_cols:\n",
    "        freq = pd.crosstab(df[time_col], df[col])\n",
    "        numeric = numeric.join(freq, how='left')\n",
    "\n",
    "    numeric.to_csv(outfile)\n",
    "    print(f\"Saved {outfile}\")\n"
   ],
   "outputs": [],
   "execution_count": 9
  },
  {
   "cell_type": "code",
   "id": "c361bd95",
   "metadata": {
    "ExecuteTime": {
     "end_time": "2025-06-10T18:17:58.854350Z",
     "start_time": "2025-06-10T18:17:58.610438Z"
    }
   },
   "source": [
    "# 5️⃣ Generate v7 (weekly), v8 (monthly), v9 (yearly)\n",
    "aggregate_resolution(df, 'week_key',   '../datasets/customer_shopping_data_v7_weekly.csv',  include_season=True)\n",
    "aggregate_resolution(df, 'month_key',  '../datasets/customer_shopping_data_v8_monthly.csv', include_season=True)\n",
    "aggregate_resolution(df, 'year_key',   '../datasets/customer_shopping_data_v9_yearly.csv',  include_season=False)"
   ],
   "outputs": [
    {
     "name": "stdout",
     "output_type": "stream",
     "text": [
      "Saved ../datasets/customer_shopping_data_v7_weekly.csv\n",
      "Saved ../datasets/customer_shopping_data_v8_monthly.csv\n",
      "Saved ../datasets/customer_shopping_data_v9_yearly.csv\n"
     ]
    }
   ],
   "execution_count": 10
  }
 ],
 "metadata": {
  "kernelspec": {
   "name": "python3",
   "language": "python",
   "display_name": "Python 3 (ipykernel)"
  }
 },
 "nbformat": 4,
 "nbformat_minor": 5
}
