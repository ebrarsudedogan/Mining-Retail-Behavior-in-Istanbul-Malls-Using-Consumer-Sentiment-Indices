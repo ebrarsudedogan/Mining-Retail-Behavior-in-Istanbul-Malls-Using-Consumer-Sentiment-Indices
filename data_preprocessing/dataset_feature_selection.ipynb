{
 "cells": [
  {
   "cell_type": "markdown",
   "id": "f985b3cc",
   "metadata": {},
   "source": [
    "# Dataset Feature Selection\n",
    "This notebook will perform feature selection based on:\n"
   ]
  }
 ],
 "metadata": {},
 "nbformat": 4,
 "nbformat_minor": 5
}
