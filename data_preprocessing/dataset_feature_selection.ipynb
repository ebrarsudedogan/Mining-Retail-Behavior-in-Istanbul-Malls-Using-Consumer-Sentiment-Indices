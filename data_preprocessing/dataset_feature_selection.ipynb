{
 "cells": [
  {
   "cell_type": "markdown",
   "id": "f985b3cc",
   "metadata": {},
   "source": [
    "# Dataset Feature Selection\n",
    "This notebook will perform feature selection based on:\n"
   ]
  },
  {
   "metadata": {},
   "cell_type": "markdown",
   "source": "feature selection for clustering",
   "id": "f23861ded78d0091"
  },
  {
   "metadata": {
    "ExecuteTime": {
     "end_time": "2025-07-10T18:19:36.855626Z",
     "start_time": "2025-07-10T18:19:36.481470Z"
    }
   },
   "cell_type": "code",
   "source": [
    "import pandas as pd\n",
    "\n",
    "df = pd.read_csv(\"../datasets/customer_shopping_data_v14.csv\")\n",
    "df_features = df.drop(columns=[\n",
    "    \"invoice_no\", \"customer_id\", \"invoice_date\", \"shopping_mall\",\n",
    "    \"Econ_Conf\", \"Cons_Conf\", \"RealSec_Conf\",\n",
    "    \"bloomberg_confidence\", \"oecd_confidence\", \"ipsos_confidence\"\n",
    "])\n",
    "df_features.to_csv(\"../datasets/customer_shopping_data_v18.csv\", index=False)\n"
   ],
   "id": "54c6fdebddd3ce63",
   "outputs": [],
   "execution_count": 5
  }
 ],
 "metadata": {
  "kernelspec": {
   "name": "python3",
   "language": "python",
   "display_name": "Python 3 (ipykernel)"
  }
 },
 "nbformat": 4,
 "nbformat_minor": 5
}
