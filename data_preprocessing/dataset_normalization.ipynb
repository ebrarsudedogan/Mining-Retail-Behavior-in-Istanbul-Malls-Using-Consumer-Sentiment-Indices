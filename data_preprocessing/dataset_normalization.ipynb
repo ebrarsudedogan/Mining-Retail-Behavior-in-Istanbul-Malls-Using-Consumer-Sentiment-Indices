{
 "cells": [
  {
   "cell_type": "markdown",
   "id": "761c0cf4",
   "metadata": {},
   "source": [
    "# Dataset Normalization\n",
    "This notebook applies MinMax normalization to selected numerical features."
   ]
  },
  {
   "cell_type": "markdown",
   "id": "44bfca99",
   "metadata": {},
   "source": [
    "## Columns to normalize\n",
    "- `Econ_Conf`\n",
    "- `Cons_Conf`\n",
    "- `RealSec_Conf`\n",
    "- `quantity`"
   ]
  },
  {
   "cell_type": "code",
   "execution_count": null,
   "id": "4c63570c",
   "metadata": {},
   "outputs": [],
   "source": [
    "# Import MinMaxScaler\n",
    "from sklearn.preprocessing import MinMaxScaler\n",
    "scaler = MinMaxScaler()"
   ]
  },
  {
   "cell_type": "code",
   "execution_count": null,
   "id": "42997bf2",
   "metadata": {},
   "outputs": [],
   "source": [
    "# Apply MinMaxScaler to selected columns\n",
    "cols_to_normalize = ['Econ_Conf', 'Cons_Conf', 'RealSec_Conf', 'quantity']\n",
    "df[cols_to_normalize] = scaler.fit_transform(df[cols_to_normalize])"
   ]
  },
  {
   "cell_type": "markdown",
   "id": "bae89df6",
   "metadata": {},
   "source": [
    "## Save normalized dataset\n",
    "Saving the normalized dataset as `customer_shopping_data_v15_normalized.csv`."
   ]
  },
  {
   "cell_type": "code",
   "execution_count": null,
   "id": "1a34bf79",
   "metadata": {},
   "outputs": [],
   "source": [
    "# Save normalized dataset\n",
    "df.to_csv('../datasets/customer_shopping_data_v15_normalized.csv', index=False)"
   ]
  }
 ],
 "metadata": {},
 "nbformat": 4,
 "nbformat_minor": 5
}
