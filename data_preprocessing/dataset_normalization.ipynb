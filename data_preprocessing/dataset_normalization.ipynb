{
 "cells": [
  {
   "cell_type": "markdown",
   "id": "761c0cf4",
   "metadata": {},
   "source": [
    "# Dataset Normalization\n",
    "This notebook applies StandardScaler normalization to selected numerical features."
   ]
  },
  {
   "metadata": {
    "ExecuteTime": {
     "end_time": "2025-07-10T18:33:45.381791Z",
     "start_time": "2025-07-10T18:33:44.552012Z"
    }
   },
   "cell_type": "code",
   "source": [
    "import pandas as pd\n",
    "from sklearn.preprocessing import StandardScaler\n",
    "\n",
    "df = pd.read_csv('../datasets/customer_shopping_data_v19.csv')\n",
    "numeric_cols = [\"age\", \"quantity\", \"price\", \"total_price\", \"is_weekday\", \"is_holiday\"]\n",
    "\n",
    "scaler = StandardScaler()\n",
    "scaled_numeric = scaler.fit_transform(df[numeric_cols])\n",
    "scaled_numeric_df = pd.DataFrame(scaled_numeric, columns=numeric_cols)\n",
    "\n",
    "df_normalized = df.copy()\n",
    "df_normalized[numeric_cols] = scaled_numeric_df\n",
    "df_normalized.to_csv(\"../datasets/customer_shopping_data_v20.csv\", index=False)\n"
   ],
   "id": "19967b4750def4da",
   "outputs": [],
   "execution_count": 1
  }
 ],
 "metadata": {
  "kernelspec": {
   "name": "python3",
   "language": "python",
   "display_name": "Python 3 (ipykernel)"
  }
 },
 "nbformat": 4,
 "nbformat_minor": 5
}
